{
 "cells": [
  {
   "cell_type": "code",
   "execution_count": null,
   "metadata": {
    "colab": {
     "base_uri": "https://localhost:8080/"
    },
    "id": "AY_yc7uFr51e",
    "outputId": "9a5f187e-c316-48c6-ad75-65b1e461eb1e"
   },
   "outputs": [
    {
     "name": "stdout",
     "output_type": "stream",
     "text": [
      "Mounted at /content/drive\n"
     ]
    }
   ],
   "source": [
    "from google.colab import drive\n",
    "drive.mount('/content/drive')"
   ]
  },
  {
   "cell_type": "code",
   "execution_count": null,
   "metadata": {
    "id": "hEP_Rnpjm4qa"
   },
   "outputs": [],
   "source": [
    "import matplotlib.pyplot as plt\n",
    "%matplotlib inline\n",
    "import numpy as np\n",
    "import pandas as pd\n",
    "from statsmodels.tsa.stattools import acf, pacf\n",
    "from statsmodels.tsa.arima_model import ARIMA"
   ]
  },
  {
   "cell_type": "code",
   "execution_count": null,
   "metadata": {
    "id": "7jAKNbOPseoD"
   },
   "outputs": [],
   "source": [
    "\n",
    "data = pd.read_excel('/content/drive/MyDrive/case_study.xlsx', parse_dates=True)"
   ]
  },
  {
   "cell_type": "code",
   "execution_count": null,
   "metadata": {
    "colab": {
     "base_uri": "https://localhost:8080/",
     "height": 202
    },
    "id": "plbrC64QtEAc",
    "outputId": "4e592de8-7cb3-4208-aaf7-5e757745a98f"
   },
   "outputs": [
    {
     "data": {
      "text/html": [
       "<div>\n",
       "<style scoped>\n",
       "    .dataframe tbody tr th:only-of-type {\n",
       "        vertical-align: middle;\n",
       "    }\n",
       "\n",
       "    .dataframe tbody tr th {\n",
       "        vertical-align: top;\n",
       "    }\n",
       "\n",
       "    .dataframe thead th {\n",
       "        text-align: right;\n",
       "    }\n",
       "</style>\n",
       "<table border=\"1\" class=\"dataframe\">\n",
       "  <thead>\n",
       "    <tr style=\"text-align: right;\">\n",
       "      <th></th>\n",
       "      <th>SKU</th>\n",
       "      <th>ISO_Week</th>\n",
       "      <th>Sales</th>\n",
       "      <th>Season</th>\n",
       "    </tr>\n",
       "  </thead>\n",
       "  <tbody>\n",
       "    <tr>\n",
       "      <th>0</th>\n",
       "      <td>ProductA</td>\n",
       "      <td>2018-01</td>\n",
       "      <td>0.0</td>\n",
       "      <td>WINTER</td>\n",
       "    </tr>\n",
       "    <tr>\n",
       "      <th>1</th>\n",
       "      <td>ProductA</td>\n",
       "      <td>2018-02</td>\n",
       "      <td>0.0</td>\n",
       "      <td>WINTER</td>\n",
       "    </tr>\n",
       "    <tr>\n",
       "      <th>2</th>\n",
       "      <td>ProductA</td>\n",
       "      <td>2018-03</td>\n",
       "      <td>0.0</td>\n",
       "      <td>WINTER</td>\n",
       "    </tr>\n",
       "    <tr>\n",
       "      <th>3</th>\n",
       "      <td>ProductA</td>\n",
       "      <td>2018-04</td>\n",
       "      <td>6988.0</td>\n",
       "      <td>WINTER</td>\n",
       "    </tr>\n",
       "    <tr>\n",
       "      <th>4</th>\n",
       "      <td>ProductA</td>\n",
       "      <td>2018-04</td>\n",
       "      <td>6988.0</td>\n",
       "      <td>WINTER</td>\n",
       "    </tr>\n",
       "  </tbody>\n",
       "</table>\n",
       "</div>"
      ],
      "text/plain": [
       "        SKU ISO_Week   Sales  Season\n",
       "0  ProductA  2018-01     0.0  WINTER\n",
       "1  ProductA  2018-02     0.0  WINTER\n",
       "2  ProductA  2018-03     0.0  WINTER\n",
       "3  ProductA  2018-04  6988.0  WINTER\n",
       "4  ProductA  2018-04  6988.0  WINTER"
      ]
     },
     "execution_count": 5,
     "metadata": {
      "tags": []
     },
     "output_type": "execute_result"
    }
   ],
   "source": [
    "data.head()"
   ]
  },
  {
   "cell_type": "code",
   "execution_count": null,
   "metadata": {
    "colab": {
     "base_uri": "https://localhost:8080/"
    },
    "id": "VZIAwKO5wqw0",
    "outputId": "205251ac-e9c4-4880-f2b1-bf2178b2a5a3"
   },
   "outputs": [
    {
     "data": {
      "text/plain": [
       "SKU         150\n",
       "ISO_Week    150\n",
       "Sales       143\n",
       "Season      150\n",
       "dtype: int64"
      ]
     },
     "execution_count": 49,
     "metadata": {
      "tags": []
     },
     "output_type": "execute_result"
    }
   ],
   "source": [
    "data.count()\n"
   ]
  },
  {
   "cell_type": "code",
   "execution_count": null,
   "metadata": {
    "colab": {
     "base_uri": "https://localhost:8080/"
    },
    "id": "x0xY1VQzw8iR",
    "outputId": "962a5e04-77e4-447f-eaba-9ff4dc3735c5"
   },
   "outputs": [
    {
     "data": {
      "text/plain": [
       "(150, 4)"
      ]
     },
     "execution_count": 8,
     "metadata": {
      "tags": []
     },
     "output_type": "execute_result"
    }
   ],
   "source": [
    "data.shape"
   ]
  },
  {
   "cell_type": "code",
   "execution_count": null,
   "metadata": {
    "colab": {
     "base_uri": "https://localhost:8080/"
    },
    "id": "kjnXVTPMxDpp",
    "outputId": "ce215873-f84d-4567-cbea-269d4b2db1f0"
   },
   "outputs": [
    {
     "data": {
      "text/plain": [
       "<bound method DataFrame.isnull of           SKU ISO_Week    Sales  Season\n",
       "0    ProductA  2018-01      0.0  WINTER\n",
       "1    ProductA  2018-02      0.0  WINTER\n",
       "2    ProductA  2018-03      0.0  WINTER\n",
       "3    ProductA  2018-04   6988.0  WINTER\n",
       "4    ProductA  2018-04   6988.0  WINTER\n",
       "..        ...      ...      ...     ...\n",
       "145  ProductC  2018-48  12927.0  AUTUMN\n",
       "146  ProductC  2018-49  11595.0  WINTER\n",
       "147  ProductC  2018-50  10061.0  WINTER\n",
       "148  ProductC  2018-51  10859.0  WINTER\n",
       "149  ProductC  2018-52  13093.0  WINTER\n",
       "\n",
       "[150 rows x 4 columns]>"
      ]
     },
     "execution_count": 9,
     "metadata": {
      "tags": []
     },
     "output_type": "execute_result"
    }
   ],
   "source": [
    "data.isnull"
   ]
  },
  {
   "cell_type": "code",
   "execution_count": null,
   "metadata": {
    "colab": {
     "base_uri": "https://localhost:8080/"
    },
    "id": "EV_Wh8kgxcsS",
    "outputId": "5bc18ab2-b53a-4029-ac59-5c718ccaddd1"
   },
   "outputs": [
    {
     "data": {
      "text/plain": [
       "SKU         0\n",
       "ISO_Week    0\n",
       "Sales       7\n",
       "Season      0\n",
       "dtype: int64"
      ]
     },
     "execution_count": 10,
     "metadata": {
      "tags": []
     },
     "output_type": "execute_result"
    }
   ],
   "source": [
    "data.isnull().sum()"
   ]
  },
  {
   "cell_type": "code",
   "execution_count": null,
   "metadata": {
    "colab": {
     "base_uri": "https://localhost:8080/",
     "height": 415
    },
    "id": "d4oI9-R-znki",
    "outputId": "87ebf1c4-1a35-4746-aa67-571638d9f8c5"
   },
   "outputs": [
    {
     "data": {
      "text/html": [
       "<div>\n",
       "<style scoped>\n",
       "    .dataframe tbody tr th:only-of-type {\n",
       "        vertical-align: middle;\n",
       "    }\n",
       "\n",
       "    .dataframe tbody tr th {\n",
       "        vertical-align: top;\n",
       "    }\n",
       "\n",
       "    .dataframe thead th {\n",
       "        text-align: right;\n",
       "    }\n",
       "</style>\n",
       "<table border=\"1\" class=\"dataframe\">\n",
       "  <thead>\n",
       "    <tr style=\"text-align: right;\">\n",
       "      <th></th>\n",
       "      <th>SKU</th>\n",
       "      <th>ISO_Week</th>\n",
       "      <th>Sales</th>\n",
       "      <th>Season</th>\n",
       "    </tr>\n",
       "  </thead>\n",
       "  <tbody>\n",
       "    <tr>\n",
       "      <th>0</th>\n",
       "      <td>ProductA</td>\n",
       "      <td>2018-01</td>\n",
       "      <td>0.0</td>\n",
       "      <td>WINTER</td>\n",
       "    </tr>\n",
       "    <tr>\n",
       "      <th>1</th>\n",
       "      <td>ProductA</td>\n",
       "      <td>2018-02</td>\n",
       "      <td>0.0</td>\n",
       "      <td>WINTER</td>\n",
       "    </tr>\n",
       "    <tr>\n",
       "      <th>2</th>\n",
       "      <td>ProductA</td>\n",
       "      <td>2018-03</td>\n",
       "      <td>0.0</td>\n",
       "      <td>WINTER</td>\n",
       "    </tr>\n",
       "    <tr>\n",
       "      <th>3</th>\n",
       "      <td>ProductA</td>\n",
       "      <td>2018-04</td>\n",
       "      <td>6988.0</td>\n",
       "      <td>WINTER</td>\n",
       "    </tr>\n",
       "    <tr>\n",
       "      <th>4</th>\n",
       "      <td>ProductA</td>\n",
       "      <td>2018-04</td>\n",
       "      <td>6988.0</td>\n",
       "      <td>WINTER</td>\n",
       "    </tr>\n",
       "    <tr>\n",
       "      <th>...</th>\n",
       "      <td>...</td>\n",
       "      <td>...</td>\n",
       "      <td>...</td>\n",
       "      <td>...</td>\n",
       "    </tr>\n",
       "    <tr>\n",
       "      <th>145</th>\n",
       "      <td>ProductC</td>\n",
       "      <td>2018-48</td>\n",
       "      <td>12927.0</td>\n",
       "      <td>AUTUMN</td>\n",
       "    </tr>\n",
       "    <tr>\n",
       "      <th>146</th>\n",
       "      <td>ProductC</td>\n",
       "      <td>2018-49</td>\n",
       "      <td>11595.0</td>\n",
       "      <td>WINTER</td>\n",
       "    </tr>\n",
       "    <tr>\n",
       "      <th>147</th>\n",
       "      <td>ProductC</td>\n",
       "      <td>2018-50</td>\n",
       "      <td>10061.0</td>\n",
       "      <td>WINTER</td>\n",
       "    </tr>\n",
       "    <tr>\n",
       "      <th>148</th>\n",
       "      <td>ProductC</td>\n",
       "      <td>2018-51</td>\n",
       "      <td>10859.0</td>\n",
       "      <td>WINTER</td>\n",
       "    </tr>\n",
       "    <tr>\n",
       "      <th>149</th>\n",
       "      <td>ProductC</td>\n",
       "      <td>2018-52</td>\n",
       "      <td>13093.0</td>\n",
       "      <td>WINTER</td>\n",
       "    </tr>\n",
       "  </tbody>\n",
       "</table>\n",
       "<p>150 rows × 4 columns</p>\n",
       "</div>"
      ],
      "text/plain": [
       "          SKU ISO_Week    Sales  Season\n",
       "0    ProductA  2018-01      0.0  WINTER\n",
       "1    ProductA  2018-02      0.0  WINTER\n",
       "2    ProductA  2018-03      0.0  WINTER\n",
       "3    ProductA  2018-04   6988.0  WINTER\n",
       "4    ProductA  2018-04   6988.0  WINTER\n",
       "..        ...      ...      ...     ...\n",
       "145  ProductC  2018-48  12927.0  AUTUMN\n",
       "146  ProductC  2018-49  11595.0  WINTER\n",
       "147  ProductC  2018-50  10061.0  WINTER\n",
       "148  ProductC  2018-51  10859.0  WINTER\n",
       "149  ProductC  2018-52  13093.0  WINTER\n",
       "\n",
       "[150 rows x 4 columns]"
      ]
     },
     "execution_count": 11,
     "metadata": {
      "tags": []
     },
     "output_type": "execute_result"
    }
   ],
   "source": [
    "data1 = data.fillna(data.mean())                             #Imputing missing values(NA) in the dataset\n",
    "data1"
   ]
  },
  {
   "cell_type": "code",
   "execution_count": null,
   "metadata": {
    "colab": {
     "base_uri": "https://localhost:8080/",
     "height": 202
    },
    "id": "2vsr6xi7048A",
    "outputId": "2fee0106-058e-46e3-8143-2156bc52feb5"
   },
   "outputs": [
    {
     "data": {
      "text/html": [
       "<div>\n",
       "<style scoped>\n",
       "    .dataframe tbody tr th:only-of-type {\n",
       "        vertical-align: middle;\n",
       "    }\n",
       "\n",
       "    .dataframe tbody tr th {\n",
       "        vertical-align: top;\n",
       "    }\n",
       "\n",
       "    .dataframe thead th {\n",
       "        text-align: right;\n",
       "    }\n",
       "</style>\n",
       "<table border=\"1\" class=\"dataframe\">\n",
       "  <thead>\n",
       "    <tr style=\"text-align: right;\">\n",
       "      <th></th>\n",
       "      <th>SKU</th>\n",
       "      <th>ISO_Week</th>\n",
       "      <th>Sales</th>\n",
       "      <th>Season</th>\n",
       "    </tr>\n",
       "  </thead>\n",
       "  <tbody>\n",
       "    <tr>\n",
       "      <th>0</th>\n",
       "      <td>ProductA</td>\n",
       "      <td>2018-01</td>\n",
       "      <td>0.0</td>\n",
       "      <td>WINTER</td>\n",
       "    </tr>\n",
       "    <tr>\n",
       "      <th>1</th>\n",
       "      <td>ProductA</td>\n",
       "      <td>2018-02</td>\n",
       "      <td>0.0</td>\n",
       "      <td>WINTER</td>\n",
       "    </tr>\n",
       "    <tr>\n",
       "      <th>2</th>\n",
       "      <td>ProductA</td>\n",
       "      <td>2018-03</td>\n",
       "      <td>0.0</td>\n",
       "      <td>WINTER</td>\n",
       "    </tr>\n",
       "    <tr>\n",
       "      <th>3</th>\n",
       "      <td>ProductA</td>\n",
       "      <td>2018-04</td>\n",
       "      <td>6988.0</td>\n",
       "      <td>WINTER</td>\n",
       "    </tr>\n",
       "    <tr>\n",
       "      <th>4</th>\n",
       "      <td>ProductA</td>\n",
       "      <td>2018-04</td>\n",
       "      <td>6988.0</td>\n",
       "      <td>WINTER</td>\n",
       "    </tr>\n",
       "  </tbody>\n",
       "</table>\n",
       "</div>"
      ],
      "text/plain": [
       "        SKU ISO_Week   Sales  Season\n",
       "0  ProductA  2018-01     0.0  WINTER\n",
       "1  ProductA  2018-02     0.0  WINTER\n",
       "2  ProductA  2018-03     0.0  WINTER\n",
       "3  ProductA  2018-04  6988.0  WINTER\n",
       "4  ProductA  2018-04  6988.0  WINTER"
      ]
     },
     "execution_count": 12,
     "metadata": {
      "tags": []
     },
     "output_type": "execute_result"
    }
   ],
   "source": [
    "data1.head()"
   ]
  },
  {
   "cell_type": "code",
   "execution_count": null,
   "metadata": {
    "colab": {
     "base_uri": "https://localhost:8080/"
    },
    "id": "ky8NwVDMxogx",
    "outputId": "859e4277-5660-476c-c852-d64033e4ec65"
   },
   "outputs": [
    {
     "data": {
      "text/plain": [
       "SKU          object\n",
       "ISO_Week     object\n",
       "Sales       float64\n",
       "Season       object\n",
       "dtype: object"
      ]
     },
     "execution_count": 13,
     "metadata": {
      "tags": []
     },
     "output_type": "execute_result"
    }
   ],
   "source": [
    "data1.dtypes                                                #Checking the datatypes of columns"
   ]
  },
  {
   "cell_type": "code",
   "execution_count": null,
   "metadata": {
    "id": "O7zEBpOQxsza"
   },
   "outputs": [],
   "source": [
    "data1['SKU'] = data1['SKU'].astype('category')              #Changing the datatypes from object to category\n",
    "data1['Sales'] = data1['Sales'].astype('int64')\n",
    "data1['Season'] = data1['Season'].astype('category')"
   ]
  },
  {
   "cell_type": "code",
   "execution_count": null,
   "metadata": {
    "colab": {
     "base_uri": "https://localhost:8080/"
    },
    "id": "ENAD_sVl1Z20",
    "outputId": "77b3b50b-5ffb-447f-ff23-afaab9caa7c1"
   },
   "outputs": [
    {
     "data": {
      "text/plain": [
       "SKU         category\n",
       "ISO_Week      object\n",
       "Sales          int64\n",
       "Season      category\n",
       "dtype: object"
      ]
     },
     "execution_count": 15,
     "metadata": {
      "tags": []
     },
     "output_type": "execute_result"
    }
   ],
   "source": [
    "data1.dtypes"
   ]
  },
  {
   "cell_type": "code",
   "execution_count": null,
   "metadata": {
    "id": "L_K5PILQ3Wwr"
   },
   "outputs": [],
   "source": [
    "data1.drop(data1[data1['Sales']==0].index, inplace = True)    #Removing the columns where the initial sales is 0"
   ]
  },
  {
   "cell_type": "code",
   "execution_count": null,
   "metadata": {
    "colab": {
     "base_uri": "https://localhost:8080/",
     "height": 202
    },
    "id": "p6t7g71x3w4T",
    "outputId": "8749f747-0fa8-4020-e92f-d009926422cd"
   },
   "outputs": [
    {
     "data": {
      "text/html": [
       "<div>\n",
       "<style scoped>\n",
       "    .dataframe tbody tr th:only-of-type {\n",
       "        vertical-align: middle;\n",
       "    }\n",
       "\n",
       "    .dataframe tbody tr th {\n",
       "        vertical-align: top;\n",
       "    }\n",
       "\n",
       "    .dataframe thead th {\n",
       "        text-align: right;\n",
       "    }\n",
       "</style>\n",
       "<table border=\"1\" class=\"dataframe\">\n",
       "  <thead>\n",
       "    <tr style=\"text-align: right;\">\n",
       "      <th></th>\n",
       "      <th>SKU</th>\n",
       "      <th>ISO_Week</th>\n",
       "      <th>Sales</th>\n",
       "      <th>Season</th>\n",
       "    </tr>\n",
       "  </thead>\n",
       "  <tbody>\n",
       "    <tr>\n",
       "      <th>3</th>\n",
       "      <td>ProductA</td>\n",
       "      <td>2018-04</td>\n",
       "      <td>6988</td>\n",
       "      <td>WINTER</td>\n",
       "    </tr>\n",
       "    <tr>\n",
       "      <th>4</th>\n",
       "      <td>ProductA</td>\n",
       "      <td>2018-04</td>\n",
       "      <td>6988</td>\n",
       "      <td>WINTER</td>\n",
       "    </tr>\n",
       "    <tr>\n",
       "      <th>5</th>\n",
       "      <td>ProductA</td>\n",
       "      <td>2018-05</td>\n",
       "      <td>6743</td>\n",
       "      <td>WINTER</td>\n",
       "    </tr>\n",
       "    <tr>\n",
       "      <th>6</th>\n",
       "      <td>ProductA</td>\n",
       "      <td>2018-06</td>\n",
       "      <td>4112</td>\n",
       "      <td>WINTER</td>\n",
       "    </tr>\n",
       "    <tr>\n",
       "      <th>7</th>\n",
       "      <td>ProductA</td>\n",
       "      <td>2018-07</td>\n",
       "      <td>5732</td>\n",
       "      <td>WINTER</td>\n",
       "    </tr>\n",
       "  </tbody>\n",
       "</table>\n",
       "</div>"
      ],
      "text/plain": [
       "        SKU ISO_Week  Sales  Season\n",
       "3  ProductA  2018-04   6988  WINTER\n",
       "4  ProductA  2018-04   6988  WINTER\n",
       "5  ProductA  2018-05   6743  WINTER\n",
       "6  ProductA  2018-06   4112  WINTER\n",
       "7  ProductA  2018-07   5732  WINTER"
      ]
     },
     "execution_count": 17,
     "metadata": {
      "tags": []
     },
     "output_type": "execute_result"
    }
   ],
   "source": [
    "data1.head()"
   ]
  },
  {
   "cell_type": "code",
   "execution_count": null,
   "metadata": {
    "id": "67k-hpFP317x"
   },
   "outputs": [],
   "source": [
    "data1.drop_duplicates(keep='first',inplace=True)                   #Removing duplicates in the data"
   ]
  },
  {
   "cell_type": "code",
   "execution_count": null,
   "metadata": {
    "colab": {
     "base_uri": "https://localhost:8080/"
    },
    "id": "6Zpj_u0_acMb",
    "outputId": "3fdf8037-edea-41c7-a693-10f059fa47ad"
   },
   "outputs": [
    {
     "data": {
      "text/plain": [
       "<bound method NDFrame.describe of           SKU ISO_Week  Sales  Season\n",
       "3    ProductA  2018-04   6988  WINTER\n",
       "5    ProductA  2018-05   6743  WINTER\n",
       "6    ProductA  2018-06   4112  WINTER\n",
       "7    ProductA  2018-07   5732  WINTER\n",
       "8    ProductA  2018-08   5279  WINTER\n",
       "..        ...      ...    ...     ...\n",
       "145  ProductC  2018-48  12927  AUTUMN\n",
       "146  ProductC  2018-49  11595  WINTER\n",
       "147  ProductC  2018-50  10061  WINTER\n",
       "148  ProductC  2018-51  10859  WINTER\n",
       "149  ProductC  2018-52  13093  WINTER\n",
       "\n",
       "[126 rows x 4 columns]>"
      ]
     },
     "execution_count": 19,
     "metadata": {
      "tags": []
     },
     "output_type": "execute_result"
    }
   ],
   "source": [
    "data1.describe"
   ]
  },
  {
   "cell_type": "markdown",
   "metadata": {
    "id": "PPcdgWn6bK1Y"
   },
   "source": [
    "#Removing Outlier in Data"
   ]
  },
  {
   "cell_type": "code",
   "execution_count": null,
   "metadata": {
    "colab": {
     "base_uri": "https://localhost:8080/"
    },
    "id": "ftzoAxHg381j",
    "outputId": "9773e988-7c88-4d6d-d54c-b29c8b935278"
   },
   "outputs": [
    {
     "data": {
      "text/plain": [
       "(484.0, 10402.0)"
      ]
     },
     "execution_count": 20,
     "metadata": {
      "tags": []
     },
     "output_type": "execute_result"
    }
   ],
   "source": [
    "Q1 = data1.Sales.quantile(0.25)\n",
    "Q3 = data1.Sales.quantile(0.75)\n",
    "Q1, Q3"
   ]
  },
  {
   "cell_type": "code",
   "execution_count": null,
   "metadata": {
    "colab": {
     "base_uri": "https://localhost:8080/"
    },
    "id": "ohcUJG0TekFJ",
    "outputId": "b6e3249a-61c3-4e82-92f5-9cfb03fa368d"
   },
   "outputs": [
    {
     "data": {
      "text/plain": [
       "(-14393.0, 25279.0)"
      ]
     },
     "execution_count": 21,
     "metadata": {
      "tags": []
     },
     "output_type": "execute_result"
    }
   ],
   "source": [
    "IQR = Q3 - Q1\n",
    "lower_limit = Q1 - 1.5*IQR\n",
    "upper_limit = Q3 + 1.5*IQR\n",
    "lower_limit, upper_limit"
   ]
  },
  {
   "cell_type": "code",
   "execution_count": null,
   "metadata": {
    "colab": {
     "base_uri": "https://localhost:8080/",
     "height": 79
    },
    "id": "ZdZAeqPycI-p",
    "outputId": "c3da637a-cc6f-44e6-f9d6-090ebac5df4d"
   },
   "outputs": [
    {
     "data": {
      "text/html": [
       "<div>\n",
       "<style scoped>\n",
       "    .dataframe tbody tr th:only-of-type {\n",
       "        vertical-align: middle;\n",
       "    }\n",
       "\n",
       "    .dataframe tbody tr th {\n",
       "        vertical-align: top;\n",
       "    }\n",
       "\n",
       "    .dataframe thead th {\n",
       "        text-align: right;\n",
       "    }\n",
       "</style>\n",
       "<table border=\"1\" class=\"dataframe\">\n",
       "  <thead>\n",
       "    <tr style=\"text-align: right;\">\n",
       "      <th></th>\n",
       "      <th>SKU</th>\n",
       "      <th>ISO_Week</th>\n",
       "      <th>Sales</th>\n",
       "      <th>Season</th>\n",
       "    </tr>\n",
       "  </thead>\n",
       "  <tbody>\n",
       "    <tr>\n",
       "      <th>127</th>\n",
       "      <td>ProductC</td>\n",
       "      <td>2018-30</td>\n",
       "      <td>52524</td>\n",
       "      <td>SUMMER</td>\n",
       "    </tr>\n",
       "  </tbody>\n",
       "</table>\n",
       "</div>"
      ],
      "text/plain": [
       "          SKU ISO_Week  Sales  Season\n",
       "127  ProductC  2018-30  52524  SUMMER"
      ]
     },
     "execution_count": 22,
     "metadata": {
      "tags": []
     },
     "output_type": "execute_result"
    }
   ],
   "source": [
    "data1[(data1.Sales<lower_limit)|(data1.Sales>upper_limit)]"
   ]
  },
  {
   "cell_type": "code",
   "execution_count": null,
   "metadata": {
    "colab": {
     "base_uri": "https://localhost:8080/",
     "height": 415
    },
    "id": "uZBtZdG-d97B",
    "outputId": "a112d99f-9f65-4111-9546-b011660015f8"
   },
   "outputs": [
    {
     "data": {
      "text/html": [
       "<div>\n",
       "<style scoped>\n",
       "    .dataframe tbody tr th:only-of-type {\n",
       "        vertical-align: middle;\n",
       "    }\n",
       "\n",
       "    .dataframe tbody tr th {\n",
       "        vertical-align: top;\n",
       "    }\n",
       "\n",
       "    .dataframe thead th {\n",
       "        text-align: right;\n",
       "    }\n",
       "</style>\n",
       "<table border=\"1\" class=\"dataframe\">\n",
       "  <thead>\n",
       "    <tr style=\"text-align: right;\">\n",
       "      <th></th>\n",
       "      <th>SKU</th>\n",
       "      <th>ISO_Week</th>\n",
       "      <th>Sales</th>\n",
       "      <th>Season</th>\n",
       "    </tr>\n",
       "  </thead>\n",
       "  <tbody>\n",
       "    <tr>\n",
       "      <th>3</th>\n",
       "      <td>ProductA</td>\n",
       "      <td>2018-04</td>\n",
       "      <td>6988</td>\n",
       "      <td>WINTER</td>\n",
       "    </tr>\n",
       "    <tr>\n",
       "      <th>5</th>\n",
       "      <td>ProductA</td>\n",
       "      <td>2018-05</td>\n",
       "      <td>6743</td>\n",
       "      <td>WINTER</td>\n",
       "    </tr>\n",
       "    <tr>\n",
       "      <th>6</th>\n",
       "      <td>ProductA</td>\n",
       "      <td>2018-06</td>\n",
       "      <td>4112</td>\n",
       "      <td>WINTER</td>\n",
       "    </tr>\n",
       "    <tr>\n",
       "      <th>7</th>\n",
       "      <td>ProductA</td>\n",
       "      <td>2018-07</td>\n",
       "      <td>5732</td>\n",
       "      <td>WINTER</td>\n",
       "    </tr>\n",
       "    <tr>\n",
       "      <th>8</th>\n",
       "      <td>ProductA</td>\n",
       "      <td>2018-08</td>\n",
       "      <td>5279</td>\n",
       "      <td>WINTER</td>\n",
       "    </tr>\n",
       "    <tr>\n",
       "      <th>...</th>\n",
       "      <td>...</td>\n",
       "      <td>...</td>\n",
       "      <td>...</td>\n",
       "      <td>...</td>\n",
       "    </tr>\n",
       "    <tr>\n",
       "      <th>145</th>\n",
       "      <td>ProductC</td>\n",
       "      <td>2018-48</td>\n",
       "      <td>12927</td>\n",
       "      <td>AUTUMN</td>\n",
       "    </tr>\n",
       "    <tr>\n",
       "      <th>146</th>\n",
       "      <td>ProductC</td>\n",
       "      <td>2018-49</td>\n",
       "      <td>11595</td>\n",
       "      <td>WINTER</td>\n",
       "    </tr>\n",
       "    <tr>\n",
       "      <th>147</th>\n",
       "      <td>ProductC</td>\n",
       "      <td>2018-50</td>\n",
       "      <td>10061</td>\n",
       "      <td>WINTER</td>\n",
       "    </tr>\n",
       "    <tr>\n",
       "      <th>148</th>\n",
       "      <td>ProductC</td>\n",
       "      <td>2018-51</td>\n",
       "      <td>10859</td>\n",
       "      <td>WINTER</td>\n",
       "    </tr>\n",
       "    <tr>\n",
       "      <th>149</th>\n",
       "      <td>ProductC</td>\n",
       "      <td>2018-52</td>\n",
       "      <td>13093</td>\n",
       "      <td>WINTER</td>\n",
       "    </tr>\n",
       "  </tbody>\n",
       "</table>\n",
       "<p>125 rows × 4 columns</p>\n",
       "</div>"
      ],
      "text/plain": [
       "          SKU ISO_Week  Sales  Season\n",
       "3    ProductA  2018-04   6988  WINTER\n",
       "5    ProductA  2018-05   6743  WINTER\n",
       "6    ProductA  2018-06   4112  WINTER\n",
       "7    ProductA  2018-07   5732  WINTER\n",
       "8    ProductA  2018-08   5279  WINTER\n",
       "..        ...      ...    ...     ...\n",
       "145  ProductC  2018-48  12927  AUTUMN\n",
       "146  ProductC  2018-49  11595  WINTER\n",
       "147  ProductC  2018-50  10061  WINTER\n",
       "148  ProductC  2018-51  10859  WINTER\n",
       "149  ProductC  2018-52  13093  WINTER\n",
       "\n",
       "[125 rows x 4 columns]"
      ]
     },
     "execution_count": 23,
     "metadata": {
      "tags": []
     },
     "output_type": "execute_result"
    }
   ],
   "source": [
    " #Storing the data without Outlier in a separate df, which is prep_data\n",
    " \n",
    "prep_data = data1[(data1.Sales>lower_limit)&(data1.Sales<upper_limit)]     \n",
    "prep_data"
   ]
  },
  {
   "cell_type": "code",
   "execution_count": null,
   "metadata": {
    "colab": {
     "base_uri": "https://localhost:8080/",
     "height": 703
    },
    "id": "wH8t8g-ef09Y",
    "outputId": "1a3fe88b-114a-4611-ac86-ca82e113db77"
   },
   "outputs": [
    {
     "data": {
      "image/png": "[encoded data removed]",
      "text/plain": [
       "<Figure size 720x792 with 1 Axes>"
      ]
     },
     "metadata": {
      "tags": []
     },
     "output_type": "display_data"
    }
   ],
   "source": [
    "## stackbar to see count of Sales with respect to each product categories\n",
    "\n",
    "import matplotlib.pyplot as plt\n",
    "plt.style.use('seaborn-white')\n",
    "city_cluster = prep_data.groupby(['SKU','Season']).Sales.size()\n",
    "city_cluster.unstack().plot(kind='bar',stacked=True, colormap= 'viridis', figsize=(10,11),  grid=False)\n",
    "plt.title('Stacked Barplot of Sales of product types in each season')\n",
    "plt.ylabel('Count of Total Sales of product categories in each season')\n",
    "plt.show()"
   ]
  },
  {
   "cell_type": "code",
   "execution_count": null,
   "metadata": {
    "id": "NNMNounuiwYV"
   },
   "outputs": [],
   "source": [
    "data1 = data1.replace('2018-', '', regex=True).astype(object)"
   ]
  },
  {
   "cell_type": "code",
   "execution_count": null,
   "metadata": {
    "colab": {
     "base_uri": "https://localhost:8080/",
     "height": 202
    },
    "id": "Zm2WkkeVehC9",
    "outputId": "a3cdf866-a5f8-43c0-9956-98443ddbbaee"
   },
   "outputs": [
    {
     "data": {
      "text/html": [
       "<div>\n",
       "<style scoped>\n",
       "    .dataframe tbody tr th:only-of-type {\n",
       "        vertical-align: middle;\n",
       "    }\n",
       "\n",
       "    .dataframe tbody tr th {\n",
       "        vertical-align: top;\n",
       "    }\n",
       "\n",
       "    .dataframe thead th {\n",
       "        text-align: right;\n",
       "    }\n",
       "</style>\n",
       "<table border=\"1\" class=\"dataframe\">\n",
       "  <thead>\n",
       "    <tr style=\"text-align: right;\">\n",
       "      <th></th>\n",
       "      <th>SKU</th>\n",
       "      <th>ISO_Week</th>\n",
       "      <th>Sales</th>\n",
       "      <th>Season</th>\n",
       "    </tr>\n",
       "  </thead>\n",
       "  <tbody>\n",
       "    <tr>\n",
       "      <th>3</th>\n",
       "      <td>ProductA</td>\n",
       "      <td>04</td>\n",
       "      <td>6988</td>\n",
       "      <td>WINTER</td>\n",
       "    </tr>\n",
       "    <tr>\n",
       "      <th>5</th>\n",
       "      <td>ProductA</td>\n",
       "      <td>05</td>\n",
       "      <td>6743</td>\n",
       "      <td>WINTER</td>\n",
       "    </tr>\n",
       "    <tr>\n",
       "      <th>6</th>\n",
       "      <td>ProductA</td>\n",
       "      <td>06</td>\n",
       "      <td>4112</td>\n",
       "      <td>WINTER</td>\n",
       "    </tr>\n",
       "    <tr>\n",
       "      <th>7</th>\n",
       "      <td>ProductA</td>\n",
       "      <td>07</td>\n",
       "      <td>5732</td>\n",
       "      <td>WINTER</td>\n",
       "    </tr>\n",
       "    <tr>\n",
       "      <th>8</th>\n",
       "      <td>ProductA</td>\n",
       "      <td>08</td>\n",
       "      <td>5279</td>\n",
       "      <td>WINTER</td>\n",
       "    </tr>\n",
       "  </tbody>\n",
       "</table>\n",
       "</div>"
      ],
      "text/plain": [
       "        SKU ISO_Week Sales  Season\n",
       "3  ProductA       04  6988  WINTER\n",
       "5  ProductA       05  6743  WINTER\n",
       "6  ProductA       06  4112  WINTER\n",
       "7  ProductA       07  5732  WINTER\n",
       "8  ProductA       08  5279  WINTER"
      ]
     },
     "execution_count": 26,
     "metadata": {
      "tags": []
     },
     "output_type": "execute_result"
    }
   ],
   "source": [
    "data1.head()"
   ]
  },
  {
   "cell_type": "code",
   "execution_count": null,
   "metadata": {
    "colab": {
     "base_uri": "https://localhost:8080/",
     "height": 403
    },
    "id": "Quhjn3CaQivx",
    "outputId": "f38706c9-1229-458c-9c22-5f4fa8cf5f71"
   },
   "outputs": [
    {
     "data": {
      "text/plain": [
       "<matplotlib.axes._subplots.AxesSubplot at 0x7fcafa3eb4e0>"
      ]
     },
     "execution_count": 27,
     "metadata": {
      "tags": []
     },
     "output_type": "execute_result"
    },
    {
     "data": {
      "image/png": "[encoded data removed]",
      "text/plain": [
       "<Figure size 576x432 with 1 Axes>"
      ]
     },
     "metadata": {
      "tags": []
     },
     "output_type": "display_data"
    }
   ],
   "source": [
    "data1.plot(kind='line',x='ISO_Week',y='Sales',figsize=(8,6))        ## line graph with repect to ISO_Week and Sales Data"
   ]
  },
  {
   "cell_type": "code",
   "execution_count": null,
   "metadata": {
    "colab": {
     "base_uri": "https://localhost:8080/"
    },
    "id": "ul1E1Lxvkxlf",
    "outputId": "7ef2b2ab-a774-4dd9-aede-4f821814b565"
   },
   "outputs": [
    {
     "name": "stdout",
     "output_type": "stream",
     "text": [
      "         SKU ISO_Week  Sales  Season\n",
      "3   ProductA       04   6988  WINTER\n",
      "5   ProductA       05   6743  WINTER\n",
      "6   ProductA       06   4112  WINTER\n",
      "7   ProductA       07   5732  WINTER\n",
      "8   ProductA       08   5279  WINTER\n",
      "9   ProductA       09   5559  SPRING\n",
      "10  ProductA       10   5381  SPRING\n",
      "11  ProductA       11  11709  SPRING\n",
      "12  ProductA       12  10410  SPRING\n",
      "13  ProductA       13  10211  SPRING\n",
      "14  ProductA       14  10378  SPRING\n",
      "15  ProductA       15  10012  SPRING\n",
      "17  ProductA       16  10178  SPRING\n",
      "18  ProductA       17  11316  SPRING\n",
      "19  ProductA       18   5279  SPRING\n",
      "20  ProductA       19  11384  SPRING\n",
      "21  ProductA       20  10470  SPRING\n",
      "22  ProductA       21   5471  SPRING\n",
      "23  ProductA       22   4874  SPRING\n",
      "24  ProductA       23   6746  SUMMER\n",
      "25  ProductA       24  10777  SUMMER\n",
      "26  ProductA       25   3730  SUMMER\n",
      "27  ProductA       26  11159  SUMMER\n",
      "28  ProductA       27   6568  SUMMER\n",
      "29  ProductA       28   4915  SUMMER\n",
      "30  ProductA       29   5279  SUMMER\n",
      "31  ProductA       30   5279  SUMMER\n",
      "32  ProductA       31   4579  SUMMER\n",
      "33  ProductA       32   6780  SUMMER\n",
      "34  ProductA       33   3648  SUMMER\n",
      "35  ProductA       34   3036  SUMMER\n",
      "36  ProductA       35   3425  SUMMER\n",
      "37  ProductA       36   4979  AUTUMN\n",
      "38  ProductA       37   3115  AUTUMN\n",
      "39  ProductA       38   3722  AUTUMN\n",
      "40  ProductA       39   6545  AUTUMN\n",
      "41  ProductA       40   6699  AUTUMN\n",
      "42  ProductA       41   6412  AUTUMN\n",
      "43  ProductA       42   4740  AUTUMN\n",
      "44  ProductA       43   4341  AUTUMN\n",
      "45  ProductA       44   5363  AUTUMN\n",
      "46  ProductA       45  12120  AUTUMN\n",
      "47  ProductA       46   3314  AUTUMN\n",
      "48  ProductA       47   4673  AUTUMN\n",
      "49  ProductA       48  12376  AUTUMN\n",
      "50  ProductA       49  14853  WINTER\n",
      "51  ProductA       50  12447  WINTER\n",
      "52  ProductA       51  12247  WINTER\n",
      "53  ProductA       52  13679  WINTER\n"
     ]
    }
   ],
   "source": [
    "product_categories = data1.groupby(data1.SKU)                      #Dividing the dataset into different subgroups based on Product Category A\n",
    "ProductA = product_categories.get_group(\"ProductA\")\n",
    "print(ProductA)"
   ]
  },
  {
   "cell_type": "code",
   "execution_count": null,
   "metadata": {
    "colab": {
     "base_uri": "https://localhost:8080/"
    },
    "id": "D_dCJ1Bwlu-r",
    "outputId": "475510c7-932c-49a7-d927-c0c565f57a07"
   },
   "outputs": [
    {
     "name": "stdout",
     "output_type": "stream",
     "text": [
      "          SKU ISO_Week Sales  Season\n",
      "54   ProductB       01  5279  WINTER\n",
      "55   ProductB       02  5279  WINTER\n",
      "56   ProductB       03  5279  WINTER\n",
      "57   ProductB       04   -23  WINTER\n",
      "58   ProductB       05   446  WINTER\n",
      "59   ProductB       06   361  WINTER\n",
      "60   ProductB       07   229  WINTER\n",
      "61   ProductB       08   219  WINTER\n",
      "63   ProductB       09   495  SPRING\n",
      "64   ProductB       10   278  SPRING\n",
      "65   ProductB       11   316  SPRING\n",
      "66   ProductB       12   -50  SPRING\n",
      "74   ProductB       20   442  SPRING\n",
      "75   ProductB       21   459  SPRING\n",
      "76   ProductB       22   392  SPRING\n",
      "77   ProductB       23   381  SUMMER\n",
      "78   ProductB       24   288  SUMMER\n",
      "79   ProductB       25   240  SUMMER\n",
      "80   ProductB       26   361  SUMMER\n",
      "83   ProductB       29   -45  SUMMER\n",
      "87   ProductB       33   241  SUMMER\n",
      "88   ProductB       34   328  SUMMER\n",
      "89   ProductB       35   233  SUMMER\n",
      "90   ProductB       36   293  AUTUMN\n",
      "91   ProductB       37   387  AUTUMN\n",
      "92   ProductB       38   385  AUTUMN\n",
      "93   ProductB       39   442  AUTUMN\n",
      "96   ProductB       42   -23  AUTUMN\n",
      "100  ProductB       46   376  AUTUMN\n",
      "101  ProductB       47   483  AUTUMN\n",
      "102  ProductB       48   301  AUTUMN\n",
      "103  ProductB       49   489  WINTER\n",
      "104  ProductB       50   487  WINTER\n",
      "105  ProductB       51   464  WINTER\n",
      "106  ProductB       52   488  WINTER\n"
     ]
    }
   ],
   "source": [
    "product_categories = data1.groupby(data1.SKU)                      #Dividing the dataset into different subgroups based on Product Category B\n",
    "ProductB = product_categories.get_group(\"ProductB\")\n",
    "print(ProductB)"
   ]
  },
  {
   "cell_type": "code",
   "execution_count": null,
   "metadata": {
    "colab": {
     "base_uri": "https://localhost:8080/"
    },
    "id": "QnRlKmyQl8Jk",
    "outputId": "e5de2c8f-90ad-4566-bcf7-31ea4c205920"
   },
   "outputs": [
    {
     "name": "stdout",
     "output_type": "stream",
     "text": [
      "          SKU ISO_Week  Sales  Season\n",
      "107  ProductC       11   5495  SPRING\n",
      "108  ProductC       12   6330  SPRING\n",
      "109  ProductC       13   6144  SPRING\n",
      "110  ProductC       14   6383  SPRING\n",
      "111  ProductC       15   5533  SPRING\n",
      "113  ProductC       16   6619  SPRING\n",
      "114  ProductC       17   -111  SPRING\n",
      "115  ProductC       18   -149  SPRING\n",
      "116  ProductC       19   -163  SPRING\n",
      "117  ProductC       20   -119  SPRING\n",
      "118  ProductC       21  11793  SPRING\n",
      "119  ProductC       22  11583  SPRING\n",
      "120  ProductC       23  11828  SUMMER\n",
      "121  ProductC       24  11672  SUMMER\n",
      "122  ProductC       25  10317  SUMMER\n",
      "123  ProductC       26  10468  SUMMER\n",
      "124  ProductC       27  10186  SUMMER\n",
      "125  ProductC       28  10892  SUMMER\n",
      "126  ProductC       29  10961  SUMMER\n",
      "127  ProductC       30  52524  SUMMER\n",
      "128  ProductC       31  10532  SUMMER\n",
      "129  ProductC       32  10168  SUMMER\n",
      "130  ProductC       33  11533  SUMMER\n",
      "131  ProductC       34  11663  SUMMER\n",
      "132  ProductC       35  10197  SUMMER\n",
      "133  ProductC       36  11549  AUTUMN\n",
      "134  ProductC       37  11856  AUTUMN\n",
      "135  ProductC       38   4185  AUTUMN\n",
      "136  ProductC       39   4357  AUTUMN\n",
      "137  ProductC       40   3730  AUTUMN\n",
      "138  ProductC       41   3158  AUTUMN\n",
      "139  ProductC       42   3768  AUTUMN\n",
      "140  ProductC       43   3929  AUTUMN\n",
      "141  ProductC       44   4588  AUTUMN\n",
      "142  ProductC       45   3212  AUTUMN\n",
      "143  ProductC       46  14521  AUTUMN\n",
      "144  ProductC       47  14510  AUTUMN\n",
      "145  ProductC       48  12927  AUTUMN\n",
      "146  ProductC       49  11595  WINTER\n",
      "147  ProductC       50  10061  WINTER\n",
      "148  ProductC       51  10859  WINTER\n",
      "149  ProductC       52  13093  WINTER\n"
     ]
    }
   ],
   "source": [
    "product_categories = data1.groupby(data1.SKU)                      #Dividing the dataset into different subgroups based on Product Category C\n",
    "ProductC = product_categories.get_group(\"ProductC\")\n",
    "print(ProductC)"
   ]
  },
  {
   "cell_type": "code",
   "execution_count": null,
   "metadata": {
    "colab": {
     "base_uri": "https://localhost:8080/",
     "height": 508
    },
    "id": "wzg_w7Qeqxb7",
    "outputId": "6d31c5ec-c16d-49ee-cbf5-593eed0faa19"
   },
   "outputs": [
    {
     "data": {
      "image/png": "[encoded data removed]",
      "text/plain": [
       "<Figure size 864x576 with 1 Axes>"
      ]
     },
     "metadata": {
      "tags": []
     },
     "output_type": "display_data"
    }
   ],
   "source": [
    "##Plotting the Sales Data of ProductA\n",
    "fig, ax = plt.subplots(figsize=(12, 8))\n",
    "ax.plot(ProductA.ISO_Week, ProductA.Sales, color='tab:orange', label='Windspeed')\n",
    "ax.set_xlabel('Week')\n",
    "ax.set_ylabel('Sales')\n",
    "ax.set_title('Sales Data of ProductA')\n",
    "ax.grid(True)\n"
   ]
  },
  {
   "cell_type": "code",
   "execution_count": null,
   "metadata": {
    "colab": {
     "base_uri": "https://localhost:8080/",
     "height": 508
    },
    "id": "FHFQGxUXsEjy",
    "outputId": "91eea422-da48-4d32-f3a7-225bffcb80ad"
   },
   "outputs": [
    {
     "data": {
      "image/png": "[encoded data removed]",
      "text/plain": [
       "<Figure size 864x576 with 1 Axes>"
      ]
     },
     "metadata": {
      "tags": []
     },
     "output_type": "display_data"
    }
   ],
   "source": [
    "##Plotting the Sales Data of ProductC\n",
    "fig, ax = plt.subplots(figsize=(12, 8))\n",
    "ax.plot(ProductB.ISO_Week, ProductB.Sales, color='tab:orange', label='Windspeed')\n",
    "ax.set_xlabel('Week')\n",
    "ax.set_ylabel('Sales')\n",
    "ax.set_title('Sales Data of ProductB')\n",
    "ax.grid(True)"
   ]
  },
  {
   "cell_type": "code",
   "execution_count": null,
   "metadata": {
    "colab": {
     "base_uri": "https://localhost:8080/",
     "height": 508
    },
    "id": "Jq_F7CUgsND8",
    "outputId": "188b9e17-6fc9-444d-d083-779972eb7665"
   },
   "outputs": [
    {
     "data": {
      "image/png": "[encoded data removed]",
      "text/plain": [
       "<Figure size 864x576 with 1 Axes>"
      ]
     },
     "metadata": {
      "tags": []
     },
     "output_type": "display_data"
    }
   ],
   "source": [
    "##Plotting the Sales Data of ProductC\n",
    "fig, ax = plt.subplots(figsize=(12, 8))\n",
    "ax.plot(ProductC.ISO_Week, ProductC.Sales, color='tab:orange', label='Windspeed')\n",
    "ax.set_xlabel('Week')\n",
    "ax.set_ylabel('Sales')\n",
    "ax.set_title('Sales Data of ProductC')\n",
    "ax.grid(True)"
   ]
  },
  {
   "cell_type": "markdown",
   "metadata": {
    "id": "0JnGcJb4hVwP"
   },
   "source": [
    "#Checking Stationarity in the data"
   ]
  },
  {
   "cell_type": "code",
   "execution_count": null,
   "metadata": {
    "colab": {
     "base_uri": "https://localhost:8080/"
    },
    "id": "QUCPxJ9ysh-E",
    "outputId": "d2c77bdb-75a8-4a4e-b6b0-2bc0228d1df2"
   },
   "outputs": [
    {
     "name": "stdout",
     "output_type": "stream",
     "text": [
      "ADF Statistic: -1.441873\n",
      "p-value: 0.562045\n",
      "Critical Values:\n",
      "\t1%: -3.581\n",
      "\t5%: -2.927\n",
      "\t10%: -2.602\n",
      "Failed to Reject Ho - Time Series is Non-Stationary\n"
     ]
    }
   ],
   "source": [
    "#Checking Stationarity for ProductA\n",
    "\n",
    "from statsmodels.tsa.stattools import adfuller\n",
    "X = ProductA['Sales'].values\n",
    "result = adfuller(X)\n",
    "print('ADF Statistic: %f' % result[0])\n",
    "print('p-value: %f' % result[1])\n",
    "print('Critical Values:')\n",
    "for key, value in result[4].items():\n",
    "    print('\\t%s: %.3f' % (key, value))\n",
    "\n",
    "if result[0] < result[4][\"5%\"]:\n",
    "    print (\"Reject Ho - Time Series is Stationary\")\n",
    "else:\n",
    "    print (\"Failed to Reject Ho - Time Series is Non-Stationary\")\n",
    "    "
   ]
  },
  {
   "cell_type": "code",
   "execution_count": null,
   "metadata": {
    "colab": {
     "base_uri": "https://localhost:8080/"
    },
    "id": "61P9dA9NuauL",
    "outputId": "b12c65c9-4b03-4f33-e0f4-3bf406357abb"
   },
   "outputs": [
    {
     "name": "stdout",
     "output_type": "stream",
     "text": [
      "ADF Statistic: -1.601870\n",
      "p-value: 0.482654\n",
      "Critical Values:\n",
      "\t1%: -3.724\n",
      "\t5%: -2.986\n",
      "\t10%: -2.633\n",
      "Failed to Reject Ho - Time Series is Non-Stationary\n"
     ]
    }
   ],
   "source": [
    "#Checking Stationarity for ProductB\n",
    "\n",
    "from statsmodels.tsa.stattools import adfuller\n",
    "X = ProductB['Sales'].values\n",
    "result = adfuller(X)\n",
    "print('ADF Statistic: %f' % result[0])\n",
    "print('p-value: %f' % result[1])\n",
    "print('Critical Values:')\n",
    "for key, value in result[4].items():\n",
    "    print('\\t%s: %.3f' % (key, value))\n",
    "\n",
    "if result[0] < result[4][\"5%\"]:\n",
    "    print (\"Reject Ho - Time Series is Stationary\")\n",
    "else:\n",
    "    print (\"Failed to Reject Ho - Time Series is Non-Stationary\")"
   ]
  },
  {
   "cell_type": "code",
   "execution_count": null,
   "metadata": {
    "colab": {
     "base_uri": "https://localhost:8080/"
    },
    "id": "yl6gf56f2bH2",
    "outputId": "73b6db8e-33ee-43e7-f1f0-7239ae405849"
   },
   "outputs": [
    {
     "name": "stdout",
     "output_type": "stream",
     "text": [
      "ADF Statistic: -4.742343\n",
      "p-value: 0.000070\n",
      "Critical Values:\n",
      "\t1%: -3.601\n",
      "\t5%: -2.935\n",
      "\t10%: -2.606\n",
      "Reject Ho - Time Series is Stationary\n"
     ]
    }
   ],
   "source": [
    "#Checking Stationarity for ProductC\n",
    "\n",
    "X = ProductC['Sales'].values\n",
    "result = adfuller(X)\n",
    "print('ADF Statistic: %f' % result[0])\n",
    "print('p-value: %f' % result[1])\n",
    "print('Critical Values:')\n",
    "for key, value in result[4].items():\n",
    "    print('\\t%s: %.3f' % (key, value))\n",
    "\n",
    "if result[0] < result[4][\"5%\"]:\n",
    "    print (\"Reject Ho - Time Series is Stationary\")\n",
    "else:\n",
    "    print (\"Failed to Reject Ho - Time Series is Non-Stationary\")"
   ]
  },
  {
   "cell_type": "markdown",
   "metadata": {
    "id": "4-S7VGcwDj32"
   },
   "source": [
    "Converting Non-Stationary data to Stationary in ProductA, ProductB"
   ]
  },
  {
   "cell_type": "code",
   "execution_count": null,
   "metadata": {
    "id": "J0-tg4FT8AY3"
   },
   "outputs": [],
   "source": [
    "ProductA_new = pd.DataFrame(ProductA['Sales'])\n",
    "ProductA_new['Differencing']=list((ProductA['Sales']-ProductA['Sales'].shift(1).fillna(method='bfill')))"
   ]
  },
  {
   "cell_type": "code",
   "execution_count": null,
   "metadata": {
    "colab": {
     "base_uri": "https://localhost:8080/",
     "height": 517
    },
    "id": "3wkYAS-QMhC4",
    "outputId": "a405327e-2075-4402-fa42-c1f7c68735f8"
   },
   "outputs": [
    {
     "data": {
      "image/png": "[encoded data removed]",
      "text/plain": [
       "<Figure size 720x576 with 1 Axes>"
      ]
     },
     "metadata": {
      "tags": []
     },
     "output_type": "display_data"
    }
   ],
   "source": [
    "ProductA_new.plot(figsize=(10, 8))\n",
    "plt.title('Comparing after performing Differencing on ProductA Sales', fontsize=10)\n",
    "plt.xlabel(\"ISO_Week\", fontsize=20)\n",
    "plt.ylabel(\"Sales\", fontsize=20)\n",
    "plt.legend(fontsize=20, loc=2)\n",
    "plt.show()\n"
   ]
  },
  {
   "cell_type": "code",
   "execution_count": null,
   "metadata": {
    "id": "szT-iMSZPD-m"
   },
   "outputs": [],
   "source": [
    "ProductB_new = pd.DataFrame(ProductB['Sales'])\n",
    "ProductB_new['Differencing']=list((ProductB['Sales']-ProductB_new['Sales'].shift(1).fillna(method='bfill')))"
   ]
  },
  {
   "cell_type": "code",
   "execution_count": null,
   "metadata": {
    "colab": {
     "base_uri": "https://localhost:8080/",
     "height": 517
    },
    "id": "D2Db6-zjP9Qs",
    "outputId": "9f55e2d7-fea4-464a-bbe8-565137dd07f3"
   },
   "outputs": [
    {
     "data": {
      "image/png": "[encoded data removed]",
      "text/plain": [
       "<Figure size 720x576 with 1 Axes>"
      ]
     },
     "metadata": {
      "tags": []
     },
     "output_type": "display_data"
    }
   ],
   "source": [
    "ProductB_new.plot(figsize=(10, 8))\n",
    "plt.title('Comparing after performing Differencing on ProductB Sales', fontsize=10)\n",
    "plt.xlabel(\"ISO_Week\", fontsize=20)\n",
    "plt.ylabel(\"Sales\", fontsize=20)\n",
    "plt.legend(fontsize=20, loc=2)\n",
    "plt.show()"
   ]
  },
  {
   "cell_type": "code",
   "execution_count": null,
   "metadata": {
    "id": "WHAcyP6NUHa2"
   },
   "outputs": [],
   "source": [
    "#ACF PLOT OF ProductA_new\n",
    "from pandas.plotting import autocorrelation_plot"
   ]
  },
  {
   "cell_type": "code",
   "execution_count": null,
   "metadata": {
    "colab": {
     "base_uri": "https://localhost:8080/",
     "height": 297
    },
    "id": "vHVq-6L0CVT1",
    "outputId": "1bb96f95-6755-41d2-9110-85b79a7aeafb"
   },
   "outputs": [
    {
     "data": {
      "text/plain": [
       "<matplotlib.axes._subplots.AxesSubplot at 0x7fcafa8bdf98>"
      ]
     },
     "execution_count": 56,
     "metadata": {
      "tags": []
     },
     "output_type": "execute_result"
    },
    {
     "data": {
      "image/png": "[encoded data removed]",
      "text/plain": [
       "<Figure size 432x288 with 1 Axes>"
      ]
     },
     "metadata": {
      "tags": []
     },
     "output_type": "display_data"
    }
   ],
   "source": [
    "autocorrelation_plot(ProductA_new['Sales'])\n",
    "\n",
    "#pvalue can be 1"
   ]
  },
  {
   "cell_type": "code",
   "execution_count": null,
   "metadata": {
    "colab": {
     "base_uri": "https://localhost:8080/",
     "height": 297
    },
    "id": "dywMtPwnDB9z",
    "outputId": "d3833714-75cb-4b5b-90a7-8277b39b73dc"
   },
   "outputs": [
    {
     "data": {
      "text/plain": [
       "<matplotlib.axes._subplots.AxesSubplot at 0x7fcafa3effd0>"
      ]
     },
     "execution_count": 57,
     "metadata": {
      "tags": []
     },
     "output_type": "execute_result"
    },
    {
     "data": {
      "image/png": "[encoded data removed]",
      "text/plain": [
       "<Figure size 432x288 with 1 Axes>"
      ]
     },
     "metadata": {
      "tags": []
     },
     "output_type": "display_data"
    }
   ],
   "source": [
    "#ACF PLOT OF ProductB_new\n",
    "from pandas.plotting import autocorrelation_plot\n",
    "autocorrelation_plot(ProductB_new['Sales'])\n",
    "\n",
    "#p value can be 1"
   ]
  },
  {
   "cell_type": "code",
   "execution_count": null,
   "metadata": {
    "colab": {
     "base_uri": "https://localhost:8080/",
     "height": 297
    },
    "id": "2aT4NOAsEDMr",
    "outputId": "03977150-38cd-4ac6-ae53-cc188be575a6"
   },
   "outputs": [
    {
     "data": {
      "text/plain": [
       "<matplotlib.axes._subplots.AxesSubplot at 0x7fcafa8890b8>"
      ]
     },
     "execution_count": 58,
     "metadata": {
      "tags": []
     },
     "output_type": "execute_result"
    },
    {
     "data": {
      "image/png": "[encoded data removed]",
      "text/plain": [
       "<Figure size 432x288 with 1 Axes>"
      ]
     },
     "metadata": {
      "tags": []
     },
     "output_type": "display_data"
    }
   ],
   "source": [
    "#ACF PLOT OF ProductC\n",
    "from pandas.plotting import autocorrelation_plot\n",
    "autocorrelation_plot(ProductC['Sales'])\n",
    "\n",
    "#P value can be 7"
   ]
  },
  {
   "cell_type": "code",
   "execution_count": null,
   "metadata": {
    "colab": {
     "base_uri": "https://localhost:8080/",
     "height": 297
    },
    "id": "VI7O_k2tEOTh",
    "outputId": "18e93cfd-282c-4b88-a4ab-de4261339a96"
   },
   "outputs": [
    {
     "data": {
      "image/png": "[encoded data removed]",
      "text/plain": [
       "<Figure size 432x288 with 1 Axes>"
      ]
     },
     "metadata": {
      "tags": []
     },
     "output_type": "display_data"
    }
   ],
   "source": [
    "#PACF Plot of ProductA_new\n",
    "#Plot PACF:\n",
    "from statsmodels.tsa.stattools import acf, pacf\n",
    "lag_pacf = pacf(ProductA_new['Sales'], nlags=20, method='ols')\n",
    "plt.subplot(122)\n",
    "plt.plot(lag_pacf)\n",
    "plt.axhline(y=0,linestyle='--',color='gray')\n",
    "plt.axhline(y=-1.96/np.sqrt(len(ProductA_new['Sales'])),linestyle='--',color='gray')\n",
    "plt.axhline(y=1.96/np.sqrt(len(ProductA_new['Sales'])),linestyle='--',color='gray')\n",
    "plt.title('Partial Autocorrelation Function')\n",
    "plt.tight_layout()\n",
    "\n",
    "#q = 2"
   ]
  },
  {
   "cell_type": "code",
   "execution_count": null,
   "metadata": {
    "colab": {
     "base_uri": "https://localhost:8080/",
     "height": 297
    },
    "id": "549EXPc9HHlN",
    "outputId": "402ea6d9-09c9-4455-a23b-efe30ddefadf"
   },
   "outputs": [
    {
     "data": {
      "image/png": "[encoded data removed]",
      "text/plain": [
       "<Figure size 432x288 with 1 Axes>"
      ]
     },
     "metadata": {
      "tags": []
     },
     "output_type": "display_data"
    }
   ],
   "source": [
    "#PACF Plot of ProductB_new\n",
    "#Plot PACF:\n",
    "from statsmodels.tsa.stattools import acf, pacf\n",
    "lag_pacf = pacf(ProductB_new['Sales'], nlags=20, method='ols')\n",
    "plt.subplot(122)\n",
    "plt.plot(lag_pacf)\n",
    "plt.axhline(y=0,linestyle='--',color='gray')\n",
    "plt.axhline(y=-1.96/np.sqrt(len(ProductB_new['Sales'])),linestyle='--',color='gray')\n",
    "plt.axhline(y=1.96/np.sqrt(len(ProductB_new['Sales'])),linestyle='--',color='gray')\n",
    "plt.title('Partial Autocorrelation Function')\n",
    "plt.tight_layout()\n",
    "\n",
    "# q=3"
   ]
  },
  {
   "cell_type": "code",
   "execution_count": null,
   "metadata": {
    "colab": {
     "base_uri": "https://localhost:8080/",
     "height": 297
    },
    "id": "t5AJOQssHPMQ",
    "outputId": "4b523a56-fb15-4998-9d97-58d1bf0bc1a0"
   },
   "outputs": [
    {
     "data": {
      "image/png": "[encoded data removed]",
      "text/plain": [
       "<Figure size 432x288 with 1 Axes>"
      ]
     },
     "metadata": {
      "tags": []
     },
     "output_type": "display_data"
    }
   ],
   "source": [
    "#PACF Plot of ProductC\n",
    "\n",
    "from statsmodels.tsa.stattools import acf, pacf\n",
    "lag_pacf = pacf(ProductC['Sales'], nlags=20, method='ols')\n",
    "plt.subplot(122)\n",
    "plt.plot(lag_pacf)\n",
    "plt.axhline(y=0,linestyle='--',color='gray')\n",
    "plt.axhline(y=-1.96/np.sqrt(len(ProductC['Sales'])),linestyle='--',color='gray')\n",
    "plt.axhline(y=1.96/np.sqrt(len(ProductC['Sales'])),linestyle='--',color='gray')\n",
    "plt.title('Partial Autocorrelation Function')\n",
    "plt.tight_layout()\n",
    "\n",
    "#q = 1"
   ]
  },
  {
   "cell_type": "markdown",
   "metadata": {
    "id": "c_Px6CPPVIqK"
   },
   "source": [
    "Splitting Train and Test Data "
   ]
  },
  {
   "cell_type": "code",
   "execution_count": null,
   "metadata": {
    "id": "XWc5JI5GdYRP"
   },
   "outputs": [],
   "source": [
    "#Splitting Train and Test Data from Product A Manually without using sklearn"
   ]
  },
  {
   "cell_type": "code",
   "execution_count": null,
   "metadata": {
    "colab": {
     "base_uri": "https://localhost:8080/"
    },
    "id": "b_Oe0IStVP-0",
    "outputId": "f606dd22-4643-4b92-f51d-3ad269f0e2db"
   },
   "outputs": [
    {
     "name": "stdout",
     "output_type": "stream",
     "text": [
      "         SKU ISO_Week  Sales\n",
      "3   ProductA       04   6988\n",
      "5   ProductA       05   6743\n",
      "6   ProductA       06   4112\n",
      "7   ProductA       07   5732\n",
      "8   ProductA       08   5279\n",
      "9   ProductA       09   5559\n",
      "10  ProductA       10   5381\n",
      "11  ProductA       11  11709\n",
      "12  ProductA       12  10410\n",
      "13  ProductA       13  10211\n",
      "14  ProductA       14  10378\n",
      "15  ProductA       15  10012\n",
      "17  ProductA       16  10178\n",
      "18  ProductA       17  11316\n",
      "19  ProductA       18   5279\n",
      "20  ProductA       19  11384\n",
      "21  ProductA       20  10470\n",
      "22  ProductA       21   5471\n",
      "23  ProductA       22   4874\n",
      "24  ProductA       23   6746\n",
      "25  ProductA       24  10777\n",
      "26  ProductA       25   3730\n",
      "27  ProductA       26  11159\n",
      "28  ProductA       27   6568\n",
      "29  ProductA       28   4915\n",
      "30  ProductA       29   5279\n",
      "31  ProductA       30   5279\n",
      "32  ProductA       31   4579\n",
      "33  ProductA       32   6780\n",
      "34  ProductA       33   3648\n",
      "35  ProductA       34   3036\n",
      "36  ProductA       35   3425\n",
      "37  ProductA       36   4979\n",
      "38  ProductA       37   3115\n",
      "39  ProductA       38   3722\n",
      "40  ProductA       39   6545\n",
      "41  ProductA       40   6699\n",
      "42  ProductA       41   6412\n",
      "43  ProductA       42   4740\n"
     ]
    }
   ],
   "source": [
    "Train_data_ProdA = ProductA.iloc[:39]        #Data upto week 43 of ProductA\n",
    "print(Train_data_ProdA)"
   ]
  },
  {
   "cell_type": "code",
   "execution_count": null,
   "metadata": {
    "colab": {
     "base_uri": "https://localhost:8080/"
    },
    "id": "OrEJgos9y9Hv",
    "outputId": "a85c66da-a8a8-4125-8463-c72429c453d6"
   },
   "outputs": [
    {
     "name": "stdout",
     "output_type": "stream",
     "text": [
      "         SKU ISO_Week  Sales\n",
      "44  ProductA       43   4341\n",
      "45  ProductA       44   5363\n",
      "46  ProductA       45  12120\n",
      "47  ProductA       46   3314\n",
      "48  ProductA       47   4673\n",
      "49  ProductA       48  12376\n",
      "50  ProductA       49  14853\n",
      "51  ProductA       50  12447\n",
      "52  ProductA       51  12247\n",
      "53  ProductA       52  13679\n"
     ]
    }
   ],
   "source": [
    "Test_data_ProdA = ProductA.iloc[39:52]              #Data from week 43 to Week 52 of ProductA\n",
    "print(Test_data_ProdA)"
   ]
  },
  {
   "cell_type": "code",
   "execution_count": null,
   "metadata": {
    "colab": {
     "base_uri": "https://localhost:8080/"
    },
    "id": "d5u96oAwz1TA",
    "outputId": "019577e2-9299-4cb5-dd97-e70170418294"
   },
   "outputs": [
    {
     "name": "stdout",
     "output_type": "stream",
     "text": [
      "         SKU ISO_Week Sales\n",
      "54  ProductB       01  5279\n",
      "55  ProductB       02  5279\n",
      "56  ProductB       03  5279\n",
      "57  ProductB       04   -23\n",
      "58  ProductB       05   446\n",
      "59  ProductB       06   361\n",
      "60  ProductB       07   229\n",
      "61  ProductB       08   219\n",
      "63  ProductB       09   495\n",
      "64  ProductB       10   278\n",
      "65  ProductB       11   316\n",
      "66  ProductB       12   -50\n",
      "74  ProductB       20   442\n",
      "75  ProductB       21   459\n",
      "76  ProductB       22   392\n",
      "77  ProductB       23   381\n",
      "78  ProductB       24   288\n",
      "79  ProductB       25   240\n",
      "80  ProductB       26   361\n",
      "83  ProductB       29   -45\n",
      "87  ProductB       33   241\n",
      "88  ProductB       34   328\n",
      "89  ProductB       35   233\n",
      "90  ProductB       36   293\n",
      "91  ProductB       37   387\n",
      "92  ProductB       38   385\n",
      "93  ProductB       39   442\n",
      "96  ProductB       42   -23\n"
     ]
    }
   ],
   "source": [
    "#ProductB.drop(['Season'],axis = 1, inplace=True) \n",
    "Train_data_ProdB = ProductB.loc[53:96]                   #Data upto week 43 of ProductB\n",
    "print(Train_data_ProdB)"
   ]
  },
  {
   "cell_type": "code",
   "execution_count": null,
   "metadata": {
    "colab": {
     "base_uri": "https://localhost:8080/"
    },
    "id": "W3npHGPi5yh8",
    "outputId": "9a0d9c57-d40f-469d-e834-15606dca7152"
   },
   "outputs": [
    {
     "name": "stdout",
     "output_type": "stream",
     "text": [
      "          SKU ISO_Week Sales\n",
      "100  ProductB       46   376\n",
      "101  ProductB       47   483\n",
      "102  ProductB       48   301\n",
      "103  ProductB       49   489\n",
      "104  ProductB       50   487\n",
      "105  ProductB       51   464\n",
      "106  ProductB       52   488\n"
     ]
    }
   ],
   "source": [
    "#ProductB.drop(['Season'],axis = 1, inplace=True) \n",
    "Test_data_ProdB = ProductB.loc[100:106]                   #Data upto week 43 of ProductB\n",
    "print(Test_data_ProdB)"
   ]
  },
  {
   "cell_type": "code",
   "execution_count": null,
   "metadata": {
    "colab": {
     "base_uri": "https://localhost:8080/"
    },
    "id": "d6HJiU9C6ns2",
    "outputId": "53a5bc20-57bb-4ca8-97ae-8001e15509cd"
   },
   "outputs": [
    {
     "name": "stdout",
     "output_type": "stream",
     "text": [
      "          SKU ISO_Week  Sales\n",
      "107  ProductC       11   5495\n",
      "108  ProductC       12   6330\n",
      "109  ProductC       13   6144\n",
      "110  ProductC       14   6383\n",
      "111  ProductC       15   5533\n",
      "113  ProductC       16   6619\n",
      "114  ProductC       17   -111\n",
      "115  ProductC       18   -149\n",
      "116  ProductC       19   -163\n",
      "117  ProductC       20   -119\n",
      "118  ProductC       21  11793\n",
      "119  ProductC       22  11583\n",
      "120  ProductC       23  11828\n",
      "121  ProductC       24  11672\n",
      "122  ProductC       25  10317\n",
      "123  ProductC       26  10468\n",
      "124  ProductC       27  10186\n",
      "125  ProductC       28  10892\n",
      "126  ProductC       29  10961\n",
      "127  ProductC       30  52524\n",
      "128  ProductC       31  10532\n",
      "129  ProductC       32  10168\n",
      "130  ProductC       33  11533\n",
      "131  ProductC       34  11663\n",
      "132  ProductC       35  10197\n",
      "133  ProductC       36  11549\n",
      "134  ProductC       37  11856\n",
      "135  ProductC       38   4185\n",
      "136  ProductC       39   4357\n",
      "137  ProductC       40   3730\n",
      "138  ProductC       41   3158\n",
      "139  ProductC       42   3768\n"
     ]
    },
    {
     "name": "stderr",
     "output_type": "stream",
     "text": [
      "/usr/local/lib/python3.6/dist-packages/pandas/core/frame.py:4174: SettingWithCopyWarning: \n",
      "A value is trying to be set on a copy of a slice from a DataFrame\n",
      "\n",
      "See the caveats in the documentation: https://pandas.pydata.org/pandas-docs/stable/user_guide/indexing.html#returning-a-view-versus-a-copy\n",
      "  errors=errors,\n"
     ]
    }
   ],
   "source": [
    "ProductC.drop(['Season'],axis = 1, inplace=True) \n",
    "Train_data_ProdC = ProductC.loc[107:139]                   #Data upto week 43 of ProductC\n",
    "print(Train_data_ProdC)"
   ]
  },
  {
   "cell_type": "code",
   "execution_count": null,
   "metadata": {
    "colab": {
     "base_uri": "https://localhost:8080/"
    },
    "id": "BPwg1QxCgKAV",
    "outputId": "069ce4e2-4abe-4b10-8302-e4d45515b148"
   },
   "outputs": [
    {
     "name": "stdout",
     "output_type": "stream",
     "text": [
      "          SKU ISO_Week  Sales\n",
      "140  ProductC       43   3929\n",
      "141  ProductC       44   4588\n",
      "142  ProductC       45   3212\n",
      "143  ProductC       46  14521\n",
      "144  ProductC       47  14510\n",
      "145  ProductC       48  12927\n",
      "146  ProductC       49  11595\n",
      "147  ProductC       50  10061\n",
      "148  ProductC       51  10859\n",
      "149  ProductC       52  13093\n"
     ]
    }
   ],
   "source": [
    "Test_data_ProdC = ProductC.loc[140:149]                   #Test Data upto week 43 of ProductB\n",
    "print(Test_data_ProdC)"
   ]
  },
  {
   "cell_type": "markdown",
   "metadata": {
    "id": "EVa7HgiU9QDo"
   },
   "source": [
    "Applying AR Model"
   ]
  },
  {
   "cell_type": "code",
   "execution_count": null,
   "metadata": {
    "id": "HI79YY6N8m1b"
   },
   "outputs": [],
   "source": [
    "from statsmodels.tsa.arima_model import ARIMA"
   ]
  },
  {
   "cell_type": "code",
   "execution_count": null,
   "metadata": {
    "id": "qeqQXCtnutWP"
   },
   "outputs": [],
   "source": [
    "ProdA_model = ARIMA(np.asarray(Train_data_ProdA.Sales), order=(1,1,1))     #p=2, q=2, d=1 for ProductA\n",
    "ProductA_model_fit = ProdA_model.fit()"
   ]
  },
  {
   "cell_type": "code",
   "execution_count": null,
   "metadata": {
    "colab": {
     "base_uri": "https://localhost:8080/",
     "height": 331
    },
    "id": "N9CpJDYOWbYf",
    "outputId": "241f9e1c-1658-409c-a9f7-626faefc899f"
   },
   "outputs": [
    {
     "data": {
      "text/html": [
       "<table class=\"simpletable\">\n",
       "<caption>ARIMA Model Results</caption>\n",
       "<tr>\n",
       "  <th>Dep. Variable:</th>        <td>D.y</td>       <th>  No. Observations:  </th>    <td>38</td>   \n",
       "</tr>\n",
       "<tr>\n",
       "  <th>Model:</th>          <td>ARIMA(1, 1, 1)</td>  <th>  Log Likelihood     </th> <td>-350.220</td>\n",
       "</tr>\n",
       "<tr>\n",
       "  <th>Method:</th>             <td>css-mle</td>     <th>  S.D. of innovations</th> <td>2416.804</td>\n",
       "</tr>\n",
       "<tr>\n",
       "  <th>Date:</th>          <td>Fri, 20 Nov 2020</td> <th>  AIC                </th>  <td>708.439</td>\n",
       "</tr>\n",
       "<tr>\n",
       "  <th>Time:</th>              <td>12:20:59</td>     <th>  BIC                </th>  <td>714.990</td>\n",
       "</tr>\n",
       "<tr>\n",
       "  <th>Sample:</th>                <td>1</td>        <th>  HQIC               </th>  <td>710.770</td>\n",
       "</tr>\n",
       "<tr>\n",
       "  <th></th>                       <td> </td>        <th>                     </th>     <td> </td>   \n",
       "</tr>\n",
       "</table>\n",
       "<table class=\"simpletable\">\n",
       "<tr>\n",
       "      <td></td>         <th>coef</th>     <th>std err</th>      <th>z</th>      <th>P>|z|</th>  <th>[0.025</th>    <th>0.975]</th>  \n",
       "</tr>\n",
       "<tr>\n",
       "  <th>const</th>     <td>  -22.5135</td> <td>  155.718</td> <td>   -0.145</td> <td> 0.886</td> <td> -327.715</td> <td>  282.688</td>\n",
       "</tr>\n",
       "<tr>\n",
       "  <th>ar.L1.D.y</th> <td>   -0.1189</td> <td>    0.251</td> <td>   -0.474</td> <td> 0.639</td> <td>   -0.611</td> <td>    0.373</td>\n",
       "</tr>\n",
       "<tr>\n",
       "  <th>ma.L1.D.y</th> <td>   -0.5733</td> <td>    0.212</td> <td>   -2.707</td> <td> 0.010</td> <td>   -0.988</td> <td>   -0.158</td>\n",
       "</tr>\n",
       "</table>\n",
       "<table class=\"simpletable\">\n",
       "<caption>Roots</caption>\n",
       "<tr>\n",
       "    <td></td>   <th>            Real</th>  <th>         Imaginary</th> <th>         Modulus</th>  <th>        Frequency</th>\n",
       "</tr>\n",
       "<tr>\n",
       "  <th>AR.1</th> <td>          -8.4103</td> <td>          +0.0000j</td> <td>           8.4103</td> <td>           0.5000</td>\n",
       "</tr>\n",
       "<tr>\n",
       "  <th>MA.1</th> <td>           1.7444</td> <td>          +0.0000j</td> <td>           1.7444</td> <td>           0.0000</td>\n",
       "</tr>\n",
       "</table>"
      ],
      "text/plain": [
       "<class 'statsmodels.iolib.summary.Summary'>\n",
       "\"\"\"\n",
       "                             ARIMA Model Results                              \n",
       "==============================================================================\n",
       "Dep. Variable:                    D.y   No. Observations:                   38\n",
       "Model:                 ARIMA(1, 1, 1)   Log Likelihood                -350.220\n",
       "Method:                       css-mle   S.D. of innovations           2416.804\n",
       "Date:                Fri, 20 Nov 2020   AIC                            708.439\n",
       "Time:                        12:20:59   BIC                            714.990\n",
       "Sample:                             1   HQIC                           710.770\n",
       "                                                                              \n",
       "==============================================================================\n",
       "                 coef    std err          z      P>|z|      [0.025      0.975]\n",
       "------------------------------------------------------------------------------\n",
       "const        -22.5135    155.718     -0.145      0.886    -327.715     282.688\n",
       "ar.L1.D.y     -0.1189      0.251     -0.474      0.639      -0.611       0.373\n",
       "ma.L1.D.y     -0.5733      0.212     -2.707      0.010      -0.988      -0.158\n",
       "                                    Roots                                    \n",
       "=============================================================================\n",
       "                  Real          Imaginary           Modulus         Frequency\n",
       "-----------------------------------------------------------------------------\n",
       "AR.1           -8.4103           +0.0000j            8.4103            0.5000\n",
       "MA.1            1.7444           +0.0000j            1.7444            0.0000\n",
       "-----------------------------------------------------------------------------\n",
       "\"\"\""
      ]
     },
     "execution_count": 197,
     "metadata": {
      "tags": []
     },
     "output_type": "execute_result"
    }
   ],
   "source": [
    "ProductA_model_fit.summary()"
   ]
  },
  {
   "cell_type": "code",
   "execution_count": null,
   "metadata": {
    "id": "kKAmEwweZTw8"
   },
   "outputs": [],
   "source": [
    "ProdA_forecast = ProductA_model_fit.forecast(steps = 35)[0]"
   ]
  },
  {
   "cell_type": "code",
   "execution_count": null,
   "metadata": {
    "colab": {
     "base_uri": "https://localhost:8080/"
    },
    "id": "ksu3LBcfbmjx",
    "outputId": "16f3b13f-7bf8-4061-a3ec-afa21569b643"
   },
   "outputs": [
    {
     "data": {
      "text/plain": [
       "array([6013.20692185, 5874.02901393, 5588.01016577, 5661.2184644 ,\n",
       "       5687.47403983, 5641.33990757, 5622.34419519, 5613.9569848 ,\n",
       "       5596.91447146, 5579.37040904])"
      ]
     },
     "execution_count": 186,
     "metadata": {
      "tags": []
     },
     "output_type": "execute_result"
    }
   ],
   "source": [
    "ProductA_forecast=ProdA_forecast[:10]  #Forecasted Sales values\n",
    "ProductA_forecast"
   ]
  },
  {
   "cell_type": "code",
   "execution_count": null,
   "metadata": {
    "colab": {
     "base_uri": "https://localhost:8080/",
     "height": 355
    },
    "id": "n3rjD5ifbTJd",
    "outputId": "8e018f87-0aba-4f7c-84b9-41322f8188f4"
   },
   "outputs": [
    {
     "data": {
      "text/html": [
       "<div>\n",
       "<style scoped>\n",
       "    .dataframe tbody tr th:only-of-type {\n",
       "        vertical-align: middle;\n",
       "    }\n",
       "\n",
       "    .dataframe tbody tr th {\n",
       "        vertical-align: top;\n",
       "    }\n",
       "\n",
       "    .dataframe thead th {\n",
       "        text-align: right;\n",
       "    }\n",
       "</style>\n",
       "<table border=\"1\" class=\"dataframe\">\n",
       "  <thead>\n",
       "    <tr style=\"text-align: right;\">\n",
       "      <th></th>\n",
       "      <th>SKU</th>\n",
       "      <th>ISO_Week</th>\n",
       "      <th>Sales</th>\n",
       "    </tr>\n",
       "  </thead>\n",
       "  <tbody>\n",
       "    <tr>\n",
       "      <th>44</th>\n",
       "      <td>ProductA</td>\n",
       "      <td>43</td>\n",
       "      <td>4341</td>\n",
       "    </tr>\n",
       "    <tr>\n",
       "      <th>45</th>\n",
       "      <td>ProductA</td>\n",
       "      <td>44</td>\n",
       "      <td>5363</td>\n",
       "    </tr>\n",
       "    <tr>\n",
       "      <th>46</th>\n",
       "      <td>ProductA</td>\n",
       "      <td>45</td>\n",
       "      <td>12120</td>\n",
       "    </tr>\n",
       "    <tr>\n",
       "      <th>47</th>\n",
       "      <td>ProductA</td>\n",
       "      <td>46</td>\n",
       "      <td>3314</td>\n",
       "    </tr>\n",
       "    <tr>\n",
       "      <th>48</th>\n",
       "      <td>ProductA</td>\n",
       "      <td>47</td>\n",
       "      <td>4673</td>\n",
       "    </tr>\n",
       "    <tr>\n",
       "      <th>49</th>\n",
       "      <td>ProductA</td>\n",
       "      <td>48</td>\n",
       "      <td>12376</td>\n",
       "    </tr>\n",
       "    <tr>\n",
       "      <th>50</th>\n",
       "      <td>ProductA</td>\n",
       "      <td>49</td>\n",
       "      <td>14853</td>\n",
       "    </tr>\n",
       "    <tr>\n",
       "      <th>51</th>\n",
       "      <td>ProductA</td>\n",
       "      <td>50</td>\n",
       "      <td>12447</td>\n",
       "    </tr>\n",
       "    <tr>\n",
       "      <th>52</th>\n",
       "      <td>ProductA</td>\n",
       "      <td>51</td>\n",
       "      <td>12247</td>\n",
       "    </tr>\n",
       "    <tr>\n",
       "      <th>53</th>\n",
       "      <td>ProductA</td>\n",
       "      <td>52</td>\n",
       "      <td>13679</td>\n",
       "    </tr>\n",
       "  </tbody>\n",
       "</table>\n",
       "</div>"
      ],
      "text/plain": [
       "         SKU ISO_Week  Sales\n",
       "44  ProductA       43   4341\n",
       "45  ProductA       44   5363\n",
       "46  ProductA       45  12120\n",
       "47  ProductA       46   3314\n",
       "48  ProductA       47   4673\n",
       "49  ProductA       48  12376\n",
       "50  ProductA       49  14853\n",
       "51  ProductA       50  12447\n",
       "52  ProductA       51  12247\n",
       "53  ProductA       52  13679"
      ]
     },
     "execution_count": 180,
     "metadata": {
      "tags": []
     },
     "output_type": "execute_result"
    }
   ],
   "source": [
    "Test_data_ProdA"
   ]
  },
  {
   "cell_type": "code",
   "execution_count": null,
   "metadata": {
    "colab": {
     "base_uri": "https://localhost:8080/",
     "height": 291
    },
    "id": "29FNuPmVb7sJ",
    "outputId": "a5e3d706-67be-434d-fcd9-c6084df55ea0"
   },
   "outputs": [
    {
     "data": {
      "image/png": "[encoded data removed]",
      "text/plain": [
       "<Figure size 432x288 with 1 Axes>"
      ]
     },
     "metadata": {
      "needs_background": "light",
      "tags": []
     },
     "output_type": "display_data"
    }
   ],
   "source": [
    "import matplotlib.pyplot as plt\n",
    "  \n",
    "plt.plot(Test_data_ProdA['ISO_Week'], Test_data_ProdA['Sales'])\n",
    "plt.plot()\n",
    "plt.title('Actual Sales in Test')\n",
    "plt.xlabel('ISO_Week')\n",
    "plt.ylabel('Sales')\n",
    "plt.show()"
   ]
  },
  {
   "cell_type": "code",
   "execution_count": null,
   "metadata": {
    "id": "wtTbVatGAPes"
   },
   "outputs": [],
   "source": []
  }
 ],
 "metadata": {
  "colab": {
   "collapsed_sections": [],
   "name": "Untitled8.ipynb",
   "provenance": []
  },
  "kernelspec": {
   "display_name": "Python 3",
   "language": "python",
   "name": "python3"
  },
  "language_info": {
   "codemirror_mode": {
    "name": "ipython",
    "version": 3
   },
   "file_extension": ".py",
   "mimetype": "text/x-python",
   "name": "python",
   "nbconvert_exporter": "python",
   "pygments_lexer": "ipython3",
   "version": "3.8.3"
  }
 },
 "nbformat": 4,
 "nbformat_minor": 1
}
